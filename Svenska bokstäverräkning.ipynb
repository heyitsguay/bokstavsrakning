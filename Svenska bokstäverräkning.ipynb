{
 "cells": [
  {
   "cell_type": "markdown",
   "metadata": {},
   "source": [
    "---\n",
    "\n",
    "# Svenska bokstäverräkning\n",
    "\n",
    "24 September 2019\n",
    "\n",
    "---\n",
    "\n",
    "Det svenska språket har tre bokstäver som engelska inte gör: 'å', 'ä', och 'ö'. Jag vill veta - vilket ord har mest av dessa bokstäver? Vi kan använda den nedladdningsbara ordboken [här](https://spraakbanken.gu.se/swe/resurser/nerladdning) och Python för att besvara den här frågan.\n"
   ]
  },
  {
   "cell_type": "markdown",
   "metadata": {},
   "source": [
    "## Börja\n",
    "\n",
    "Ladda ner [ordboken](https://spraakbanken.gu.se/swe/resurser/nerladdning) och extrahera 'LEXIN.xml'."
   ]
  },
  {
   "cell_type": "code",
   "execution_count": 7,
   "metadata": {},
   "outputs": [],
   "source": [
    "# You may need another file path, depending on where LEXIN.xml is extracted.\n",
    "filepath = 'LEXIN.xml'\n",
    "\n",
    "# LEXIN.xml specifies it uses the ISO-8859-1 encoding, alias iso8859_10 in\n",
    "# Python. Specify it or you'll get errors.\n",
    "with open(filepath, 'r', encoding='iso8859_10') as fd:\n",
    "    lines = fd.readlines()"
   ]
  },
  {
   "cell_type": "markdown",
   "metadata": {},
   "source": [
    "## Analysera\n",
    "\n",
    "Analysera XML-filen för att extrahera orden"
   ]
  },
  {
   "cell_type": "code",
   "execution_count": 19,
   "metadata": {},
   "outputs": [
    {
     "name": "stdout",
     "output_type": "stream",
     "text": [
      "bakrus                 bakvänd                ballast                banal            \n",
      "baksida                bakåt                  ballerina              banan            \n",
      "bakslag                bal                    ballong                banar            \n",
      "baksmälla              balans                 balsam                 banbrytande      \n",
      "baksäte                balanserar             balsamerar             banbrytare       \n",
      "baktalar               balett                 balt                   band             \n",
      "baktanke               balja                  baltisk                bandage          \n",
      "bakterie               balk                   balustrad              bandar           \n",
      "baktill                balkong                bambu                  banderoll        \n",
      "bakverk                ballad                 bana                   bandit           \n"
     ]
    }
   ],
   "source": [
    "# Words are stored in <form></form> elements. Find the lines that have those\n",
    "# tags and extract the word between them.\n",
    "formlines = [line.strip() for line in lines if '<form>' in line]\n",
    "\n",
    "# Each element of `formlines` starts with <form> and ends with </form>. So, \n",
    "# we can get the words by removing the first 6 and the last 7 characters\n",
    "# from each element of `formlines`.\n",
    "words = [f[6:-7] for f in formlines]\n",
    "\n",
    "# The dictionary uses '~' to indicate where compound words are formed from\n",
    "# smaller words, e.g. 'bak~ifrån'. Remove the '~' character.\n",
    "words = [w.replace('~', '') for w in words]\n",
    "\n",
    "# The dictionary also includes some phrases. Since we're only interested in\n",
    "# vowel counts for individual words, only keep the first word in each entry.\n",
    "words = [w.split(' ')[0] for w in words]\n",
    "\n",
    "# Remove duplicates using a hack \n",
    "# (source: https://stackoverflow.com/a/7961390/5719731).\n",
    "from collections import OrderedDict\n",
    "words = list(OrderedDict.fromkeys(words))\n",
    "\n",
    "# Print some examples in columns\n",
    "for i in range(1030, 1040):\n",
    "    s = '      '.join([words[i + 10 * j].ljust(17) for j in range(4)])\n",
    "    print(s)"
   ]
  },
  {
   "cell_type": "code",
   "execution_count": 24,
   "metadata": {},
   "outputs": [
    {
     "data": {
      "text/plain": [
       "1"
      ]
     },
     "execution_count": 24,
     "metadata": {},
     "output_type": "execute_result"
    }
   ],
   "source": [
    "words[10000].count('ä')"
   ]
  },
  {
   "cell_type": "markdown",
   "metadata": {},
   "source": [
    "## Räkna å  ä  ö\n",
    "\n",
    "Skriva en funktion för att räkna bokstäverna."
   ]
  },
  {
   "cell_type": "code",
   "execution_count": 39,
   "metadata": {},
   "outputs": [],
   "source": [
    "def letter_count(word):\n",
    "    \"\"\"Return the number of instances of å, ä, and ö in the input word.\n",
    "    \"\"\"\n",
    "    specialvowels = ['å', 'ä', 'ö']\n",
    "    \n",
    "    for v in specialvowels: \n",
    "        word.count(v)"
   ]
  }
 ],
 "metadata": {
  "kernelspec": {
   "display_name": "Python 3.6",
   "language": "python",
   "name": "python3.6"
  },
  "language_info": {
   "codemirror_mode": {
    "name": "ipython",
    "version": 3
   },
   "file_extension": ".py",
   "mimetype": "text/x-python",
   "name": "python",
   "nbconvert_exporter": "python",
   "pygments_lexer": "ipython3",
   "version": "3.6.8"
  }
 },
 "nbformat": 4,
 "nbformat_minor": 2
}
