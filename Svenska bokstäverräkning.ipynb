{
 "cells": [
  {
   "cell_type": "markdown",
   "metadata": {},
   "source": [
    "---\n",
    "\n",
    "# Svenska bokstäverräkning\n",
    "\n",
    "24 September 2019\n",
    "\n",
    "---\n",
    "\n",
    "Det svenska språket har tre bokstäver som engelska inte gör: 'å', 'ä', och 'ö'. Jag vill veta - vilket ord har mest av dessa bokstäver? Vi kan använda den nedladdningsbara ordboken [här](https://spraakbanken.gu.se/swe/resurser/nerladdning) och Python för att besvara den här frågan.\n"
   ]
  },
  {
   "cell_type": "markdown",
   "metadata": {},
   "source": [
    "## Börja\n",
    "\n",
    "Ladda ner [ordboken](https://spraakbanken.gu.se/swe/resurser/nerladdning) och extrahera 'LEXIN.xml'."
   ]
  },
  {
   "cell_type": "code",
   "execution_count": 3,
   "metadata": {},
   "outputs": [],
   "source": [
    "# You may need another file path, depending on where LEXIN.xml is extracted.\n",
    "filepath = 'LEXIN.xml'\n",
    "\n",
    "# LEXIN.xml specifies it uses the ISO-8859-1 encoding, alias iso8859_10 in\n",
    "# Python. Specify it or you'll get errors.\n",
    "with open(filepath, 'r', encoding='iso8859_10') as fd:\n",
    "    lines = fd.readlines()"
   ]
  },
  {
   "cell_type": "markdown",
   "metadata": {},
   "source": [
    "## Analysera\n",
    "\n",
    "Analysera XML-filen för att extrahera orden"
   ]
  },
  {
   "cell_type": "code",
   "execution_count": 33,
   "metadata": {},
   "outputs": [
    {
     "name": "stdout",
     "output_type": "stream",
     "text": [
      "bad                    bag                    bajsar                 bakfram          \n",
      "badar                  bagage                 bak                    bakfull          \n",
      "badbyxa                bagare                 bak                    bakgrund         \n",
      "baddar                 bagatell               bak                    bakhåll          \n",
      "baddare                bageri                 bakar                  bakifrån         \n",
      "baddräkt               bagett                 bakbinder              baklås           \n",
      "badkar                 bagge                  bakelse                baklänges        \n",
      "badminton              bajonett               bakerst                bakläxa          \n",
      "badort                 bajonettfattning       bakficka               bakom            \n",
      "badrum                 bajs                   bakfoten               bakom            \n"
     ]
    }
   ],
   "source": [
    "# Words are stored in <form></form> elements. Find the lines that have those\n",
    "# tags and extract the word between them.\n",
    "formlines = [t.strip() for t in lines if '<form>' in t]\n",
    "\n",
    "# Each element of `formlines` starts with <form> and ends with </form>. So, \n",
    "# we can get the words by removing the first 6 and the last 7 characters\n",
    "# from each element of `formlines`.\n",
    "words = [f[6:-7] for f in formlines]\n",
    "\n",
    "# The dictionary uses '~' to indicate where compound words are formed from\n",
    "# smaller words, e.g. 'bak~ifrån'. Remove the '~' character.\n",
    "words = [w.replace('~', '') for w in words]\n",
    "\n",
    "# The dictionary also includes some phrases. Since we're only interested in\n",
    "# vowel counts for individual words, only keep the first word in each entry.\n",
    "words = [w.split(' ')[0] for w in words]\n",
    "\n",
    "# Print some examples in columns\n",
    "for i in range(1030, 1040):\n",
    "    s = '      '.join([words[i + 10 * j].ljust(17) for j in range(4)])\n",
    "    print(s)"
   ]
  },
  {
   "cell_type": "markdown",
   "metadata": {},
   "source": [
    "## Räkna å  ä  ö\n",
    "\n",
    "Skriva en funktion för att räkna bokstäverna."
   ]
  },
  {
   "cell_type": "code",
   "execution_count": 39,
   "metadata": {},
   "outputs": [],
   "source": [
    "# TODO: Write the function, apply it to `words`"
   ]
  }
 ],
 "metadata": {
  "kernelspec": {
   "display_name": "Python 3.6",
   "language": "python",
   "name": "python3.6"
  },
  "language_info": {
   "codemirror_mode": {
    "name": "ipython",
    "version": 3
   },
   "file_extension": ".py",
   "mimetype": "text/x-python",
   "name": "python",
   "nbconvert_exporter": "python",
   "pygments_lexer": "ipython3",
   "version": "3.6.8"
  }
 },
 "nbformat": 4,
 "nbformat_minor": 2
}
